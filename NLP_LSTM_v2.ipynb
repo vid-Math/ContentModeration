{
  "cells": [
    {
      "cell_type": "markdown",
      "metadata": {
        "id": "view-in-github",
        "colab_type": "text"
      },
      "source": [
        "<a href=\"https://colab.research.google.com/github/vid-Math/ContentModeration/blob/master/NLP_LSTM_v2.ipynb\" target=\"_parent\"><img src=\"https://colab.research.google.com/assets/colab-badge.svg\" alt=\"Open In Colab\"/></a>"
      ]
    },
    {
      "cell_type": "code",
      "execution_count": null,
      "metadata": {
        "id": "XQjvxy9IEnWV"
      },
      "outputs": [],
      "source": [
        " ! pip install -q kaggle"
      ]
    },
    {
      "cell_type": "code",
      "execution_count": null,
      "metadata": {
        "id": "l3EFBpZ1FGd-"
      },
      "outputs": [],
      "source": [
        "from google.colab import files"
      ]
    },
    {
      "cell_type": "code",
      "execution_count": null,
      "metadata": {
        "colab": {
          "base_uri": "https://localhost:8080/",
          "height": 90
        },
        "id": "miKr4Na3GmIN",
        "outputId": "ccb10d22-7985-4067-9168-f5a470474277"
      },
      "outputs": [
        {
          "output_type": "display_data",
          "data": {
            "text/plain": [
              "<IPython.core.display.HTML object>"
            ],
            "text/html": [
              "\n",
              "     <input type=\"file\" id=\"files-523a6752-dd0c-4bde-a50d-68e1d30e1efa\" name=\"files[]\" multiple disabled\n",
              "        style=\"border:none\" />\n",
              "     <output id=\"result-523a6752-dd0c-4bde-a50d-68e1d30e1efa\">\n",
              "      Upload widget is only available when the cell has been executed in the\n",
              "      current browser session. Please rerun this cell to enable.\n",
              "      </output>\n",
              "      <script>// Copyright 2017 Google LLC\n",
              "//\n",
              "// Licensed under the Apache License, Version 2.0 (the \"License\");\n",
              "// you may not use this file except in compliance with the License.\n",
              "// You may obtain a copy of the License at\n",
              "//\n",
              "//      http://www.apache.org/licenses/LICENSE-2.0\n",
              "//\n",
              "// Unless required by applicable law or agreed to in writing, software\n",
              "// distributed under the License is distributed on an \"AS IS\" BASIS,\n",
              "// WITHOUT WARRANTIES OR CONDITIONS OF ANY KIND, either express or implied.\n",
              "// See the License for the specific language governing permissions and\n",
              "// limitations under the License.\n",
              "\n",
              "/**\n",
              " * @fileoverview Helpers for google.colab Python module.\n",
              " */\n",
              "(function(scope) {\n",
              "function span(text, styleAttributes = {}) {\n",
              "  const element = document.createElement('span');\n",
              "  element.textContent = text;\n",
              "  for (const key of Object.keys(styleAttributes)) {\n",
              "    element.style[key] = styleAttributes[key];\n",
              "  }\n",
              "  return element;\n",
              "}\n",
              "\n",
              "// Max number of bytes which will be uploaded at a time.\n",
              "const MAX_PAYLOAD_SIZE = 100 * 1024;\n",
              "\n",
              "function _uploadFiles(inputId, outputId) {\n",
              "  const steps = uploadFilesStep(inputId, outputId);\n",
              "  const outputElement = document.getElementById(outputId);\n",
              "  // Cache steps on the outputElement to make it available for the next call\n",
              "  // to uploadFilesContinue from Python.\n",
              "  outputElement.steps = steps;\n",
              "\n",
              "  return _uploadFilesContinue(outputId);\n",
              "}\n",
              "\n",
              "// This is roughly an async generator (not supported in the browser yet),\n",
              "// where there are multiple asynchronous steps and the Python side is going\n",
              "// to poll for completion of each step.\n",
              "// This uses a Promise to block the python side on completion of each step,\n",
              "// then passes the result of the previous step as the input to the next step.\n",
              "function _uploadFilesContinue(outputId) {\n",
              "  const outputElement = document.getElementById(outputId);\n",
              "  const steps = outputElement.steps;\n",
              "\n",
              "  const next = steps.next(outputElement.lastPromiseValue);\n",
              "  return Promise.resolve(next.value.promise).then((value) => {\n",
              "    // Cache the last promise value to make it available to the next\n",
              "    // step of the generator.\n",
              "    outputElement.lastPromiseValue = value;\n",
              "    return next.value.response;\n",
              "  });\n",
              "}\n",
              "\n",
              "/**\n",
              " * Generator function which is called between each async step of the upload\n",
              " * process.\n",
              " * @param {string} inputId Element ID of the input file picker element.\n",
              " * @param {string} outputId Element ID of the output display.\n",
              " * @return {!Iterable<!Object>} Iterable of next steps.\n",
              " */\n",
              "function* uploadFilesStep(inputId, outputId) {\n",
              "  const inputElement = document.getElementById(inputId);\n",
              "  inputElement.disabled = false;\n",
              "\n",
              "  const outputElement = document.getElementById(outputId);\n",
              "  outputElement.innerHTML = '';\n",
              "\n",
              "  const pickedPromise = new Promise((resolve) => {\n",
              "    inputElement.addEventListener('change', (e) => {\n",
              "      resolve(e.target.files);\n",
              "    });\n",
              "  });\n",
              "\n",
              "  const cancel = document.createElement('button');\n",
              "  inputElement.parentElement.appendChild(cancel);\n",
              "  cancel.textContent = 'Cancel upload';\n",
              "  const cancelPromise = new Promise((resolve) => {\n",
              "    cancel.onclick = () => {\n",
              "      resolve(null);\n",
              "    };\n",
              "  });\n",
              "\n",
              "  // Wait for the user to pick the files.\n",
              "  const files = yield {\n",
              "    promise: Promise.race([pickedPromise, cancelPromise]),\n",
              "    response: {\n",
              "      action: 'starting',\n",
              "    }\n",
              "  };\n",
              "\n",
              "  cancel.remove();\n",
              "\n",
              "  // Disable the input element since further picks are not allowed.\n",
              "  inputElement.disabled = true;\n",
              "\n",
              "  if (!files) {\n",
              "    return {\n",
              "      response: {\n",
              "        action: 'complete',\n",
              "      }\n",
              "    };\n",
              "  }\n",
              "\n",
              "  for (const file of files) {\n",
              "    const li = document.createElement('li');\n",
              "    li.append(span(file.name, {fontWeight: 'bold'}));\n",
              "    li.append(span(\n",
              "        `(${file.type || 'n/a'}) - ${file.size} bytes, ` +\n",
              "        `last modified: ${\n",
              "            file.lastModifiedDate ? file.lastModifiedDate.toLocaleDateString() :\n",
              "                                    'n/a'} - `));\n",
              "    const percent = span('0% done');\n",
              "    li.appendChild(percent);\n",
              "\n",
              "    outputElement.appendChild(li);\n",
              "\n",
              "    const fileDataPromise = new Promise((resolve) => {\n",
              "      const reader = new FileReader();\n",
              "      reader.onload = (e) => {\n",
              "        resolve(e.target.result);\n",
              "      };\n",
              "      reader.readAsArrayBuffer(file);\n",
              "    });\n",
              "    // Wait for the data to be ready.\n",
              "    let fileData = yield {\n",
              "      promise: fileDataPromise,\n",
              "      response: {\n",
              "        action: 'continue',\n",
              "      }\n",
              "    };\n",
              "\n",
              "    // Use a chunked sending to avoid message size limits. See b/62115660.\n",
              "    let position = 0;\n",
              "    do {\n",
              "      const length = Math.min(fileData.byteLength - position, MAX_PAYLOAD_SIZE);\n",
              "      const chunk = new Uint8Array(fileData, position, length);\n",
              "      position += length;\n",
              "\n",
              "      const base64 = btoa(String.fromCharCode.apply(null, chunk));\n",
              "      yield {\n",
              "        response: {\n",
              "          action: 'append',\n",
              "          file: file.name,\n",
              "          data: base64,\n",
              "        },\n",
              "      };\n",
              "\n",
              "      let percentDone = fileData.byteLength === 0 ?\n",
              "          100 :\n",
              "          Math.round((position / fileData.byteLength) * 100);\n",
              "      percent.textContent = `${percentDone}% done`;\n",
              "\n",
              "    } while (position < fileData.byteLength);\n",
              "  }\n",
              "\n",
              "  // All done.\n",
              "  yield {\n",
              "    response: {\n",
              "      action: 'complete',\n",
              "    }\n",
              "  };\n",
              "}\n",
              "\n",
              "scope.google = scope.google || {};\n",
              "scope.google.colab = scope.google.colab || {};\n",
              "scope.google.colab._files = {\n",
              "  _uploadFiles,\n",
              "  _uploadFilesContinue,\n",
              "};\n",
              "})(self);\n",
              "</script> "
            ]
          },
          "metadata": {}
        },
        {
          "output_type": "stream",
          "name": "stdout",
          "text": [
            "Saving kaggle.json to kaggle.json\n"
          ]
        },
        {
          "output_type": "execute_result",
          "data": {
            "text/plain": [
              "{'kaggle.json': b'{\"username\":\"vidmath25\",\"key\":\"bc77157425995e7d28313e0822e6be57\"}'}"
            ]
          },
          "metadata": {},
          "execution_count": 4
        }
      ],
      "source": [
        "files.upload()"
      ]
    },
    {
      "cell_type": "code",
      "execution_count": null,
      "metadata": {
        "id": "yPoNvRNBGpdQ"
      },
      "outputs": [],
      "source": [
        "! mkdir ~/.kaggle\n",
        "! cp kaggle.json ~/.kaggle/"
      ]
    },
    {
      "cell_type": "code",
      "execution_count": null,
      "metadata": {
        "id": "1FzdbXZOGyWp"
      },
      "outputs": [],
      "source": [
        "! chmod 600 ~/.kaggle/kaggle.json"
      ]
    },
    {
      "cell_type": "code",
      "execution_count": null,
      "metadata": {
        "id": "00lnnZLMG11e"
      },
      "outputs": [],
      "source": [
        " #! kaggle datasets list"
      ]
    },
    {
      "cell_type": "code",
      "execution_count": null,
      "metadata": {
        "id": "FTQVzWkEG6BY",
        "colab": {
          "base_uri": "https://localhost:8080/"
        },
        "outputId": "3a7c0492-1d4e-43bc-bf19-e214aa449cbb"
      },
      "outputs": [
        {
          "output_type": "stream",
          "name": "stdout",
          "text": [
            "Downloading jigsaw-toxic-comment-classification-challenge.zip to /content\n",
            " 93% 49.0M/52.6M [00:01<00:00, 34.2MB/s]\n",
            "100% 52.6M/52.6M [00:02<00:00, 26.5MB/s]\n"
          ]
        }
      ],
      "source": [
        "! kaggle competitions download -c 'jigsaw-toxic-comment-classification-challenge'"
      ]
    },
    {
      "cell_type": "code",
      "execution_count": null,
      "metadata": {
        "id": "erlUOwbcHU42",
        "colab": {
          "base_uri": "https://localhost:8080/"
        },
        "outputId": "74dbebcb-62cb-489a-dfb6-15080dd2cea5"
      },
      "outputs": [
        {
          "output_type": "stream",
          "name": "stdout",
          "text": [
            "Archive:  /content/jigsaw-toxic-comment-classification-challenge.zip\n",
            "  inflating: sample_submission.csv.zip  \n",
            "  inflating: test.csv.zip            \n",
            "  inflating: test_labels.csv.zip     \n",
            "  inflating: train.csv.zip           \n",
            "jigsaw-toxic-comment-classification-challenge.zip  test.csv.zip\n",
            "kaggle.json\t\t\t\t\t   test_labels.csv.zip\n",
            "sample_data\t\t\t\t\t   train.csv.zip\n",
            "sample_submission.csv.zip\n"
          ]
        }
      ],
      "source": [
        "! unzip /content/jigsaw-toxic-comment-classification-challenge.zip\n",
        "! ls\n"
      ]
    },
    {
      "cell_type": "code",
      "execution_count": null,
      "metadata": {
        "id": "hCtpFilmHCUD"
      },
      "outputs": [],
      "source": [
        "import pandas as pd\n",
        "import re\n",
        "import string"
      ]
    },
    {
      "cell_type": "code",
      "execution_count": null,
      "metadata": {
        "id": "Zz79eqTp0wfe"
      },
      "outputs": [],
      "source": [
        "#del(kaggle_data)"
      ]
    },
    {
      "cell_type": "code",
      "execution_count": null,
      "metadata": {
        "id": "gi8Olg4UHYkm",
        "colab": {
          "base_uri": "https://localhost:8080/"
        },
        "outputId": "9b7a89d2-cf7a-4104-bc98-a8f9fe772b40"
      },
      "outputs": [
        {
          "output_type": "stream",
          "name": "stdout",
          "text": [
            "Index(['id', 'tweet', 'toxic', 'severe_toxic', 'obscene', 'threat', 'insult',\n",
            "       'identity_hate', 'class'],\n",
            "      dtype='object')\n",
            "(159571, 9)\n",
            "[0 1]\n",
            "Index(['Unnamed: 0', 'count', 'hate_speech', 'offensive_language', 'neither',\n",
            "       'class', 'tweet'],\n",
            "      dtype='object')\n",
            "(24783, 7)\n"
          ]
        }
      ],
      "source": [
        "kaggle_data = pd.read_csv('train.csv.zip')\n",
        "kaggle_data = kaggle_data.rename(columns = {'comment_text':'tweet'})\n",
        "kaggle_data['class'] = kaggle_data['toxic'] + kaggle_data['severe_toxic'] + kaggle_data['obscene'] +\\\n",
        "                            kaggle_data['threat'] + kaggle_data['insult'] + kaggle_data['identity_hate']\n",
        "kaggle_data.loc[kaggle_data['class']>0,'class'] = 1\n",
        "kaggle_data_1 = kaggle_data.copy()\n",
        "del(kaggle_data)\n",
        "print(kaggle_data_1.columns)\n",
        "print(kaggle_data_1.shape)\n",
        "\n",
        "kaggle_data_2 = pd.read_csv('https://raw.githubusercontent.com/t-davidson/hate-speech-and-offensive-language/master/data/labeled_data.csv')\n",
        "kaggle_data_2.loc[((kaggle_data_2['class']==0) | (kaggle_data_2['class']==1)),'class'] = 1\n",
        "kaggle_data_2.loc[kaggle_data_2['class']==2,'class'] = 0\n",
        "print(kaggle_data_2['class'].unique())\n",
        "#print(kaggle_data_2['class'].dtype)\n",
        "print(kaggle_data_2.columns)\n",
        "print(kaggle_data_2.shape)\n",
        "\n",
        "\n",
        "kaggle_data = pd.concat([kaggle_data_1[['tweet', 'class']],\\\n",
        "                            kaggle_data_2[['tweet', 'class']]])\n",
        "\n",
        "del(kaggle_data_1, kaggle_data_2)\n",
        "kaggle_data['old_tweet'] = kaggle_data['tweet']"
      ]
    },
    {
      "cell_type": "code",
      "execution_count": null,
      "metadata": {
        "id": "gtqTA7wdbVWx",
        "colab": {
          "base_uri": "https://localhost:8080/"
        },
        "outputId": "fd120394-f8c8-403e-e216-1f75b1760255"
      },
      "outputs": [
        {
          "output_type": "stream",
          "name": "stdout",
          "text": [
            "Index(['id', 'comment_text'], dtype='object')\n",
            "Index(['id', 'toxic', 'severe_toxic', 'obscene', 'threat', 'insult',\n",
            "       'identity_hate'],\n",
            "      dtype='object')\n",
            "[-6  0  1]\n",
            "(63978, 9)\n"
          ]
        }
      ],
      "source": [
        "testDF_text = pd.read_csv('test.csv.zip')\n",
        "print(testDF_text.columns)\n",
        "testDF = pd.read_csv('test_labels.csv.zip')\n",
        "print(testDF.columns)\n",
        "testDF['class'] = testDF['toxic'] + testDF['severe_toxic'] + testDF['obscene'] +\\\n",
        "                            testDF['threat'] + testDF['insult'] + testDF['identity_hate']\n",
        "testDF.loc[testDF['class']>0,'class'] = 1\n",
        "print(testDF['class'].unique())\n",
        "testDF = testDF.loc[testDF['class']>=0]\n",
        "\n",
        "testDF = pd.merge(testDF, testDF_text, on = 'id', how = 'left')\n",
        "print(testDF.shape)\n",
        "\n"
      ]
    },
    {
      "cell_type": "code",
      "execution_count": null,
      "metadata": {
        "id": "mI2TPXoTH7nh",
        "colab": {
          "base_uri": "https://localhost:8080/"
        },
        "outputId": "86671ca6-b7aa-449c-e4a4-6ea2fdd9f1f5"
      },
      "outputs": [
        {
          "output_type": "stream",
          "name": "stderr",
          "text": [
            "[nltk_data] Downloading package stopwords to /root/nltk_data...\n",
            "[nltk_data]   Unzipping corpora/stopwords.zip.\n"
          ]
        },
        {
          "output_type": "execute_result",
          "data": {
            "text/plain": [
              "True"
            ]
          },
          "metadata": {},
          "execution_count": 14
        }
      ],
      "source": [
        "import tensorflow as tf\n",
        "tf.test.gpu_device_name()\n",
        "\n",
        "from tensorflow import keras\n",
        "\n",
        "import nltk\n",
        "\n",
        "nltk.download(\"stopwords\")\n",
        "\n",
        "#!unzip /root/nltk_data/stopword.zip -d /root/nltk_data/corpora/"
      ]
    },
    {
      "cell_type": "code",
      "execution_count": null,
      "metadata": {
        "id": "14RAQthbH-FC"
      },
      "outputs": [],
      "source": [
        "\n",
        "# Create list of punctuation marks\n",
        "punctuations = string.punctuation\n",
        "def remove_punctuation(txt):\n",
        "    txt_nopunct = \"\".join([c for c in txt if c not in string.punctuation])\n",
        "    return txt_nopunct\n",
        "\n",
        "# Remove URLs\n",
        "def remove_urls(text):\n",
        "    text = re.sub(r\"\\S*https?:\\S*\", \"\", text, flags=re.MULTILINE)\n",
        "    text = re.sub(r\"http?://\\S+\", \"\", text, flags=re.MULTILINE)\n",
        "    return text\n",
        "\n",
        "# remove stopwords\n",
        "from nltk.corpus import stopwords\n",
        "STOPWORDS = stopwords.words('english')\n",
        "def remove_stopwords(txt_clean):\n",
        "    #txt_clean = [word for word in txt_tokenized if word not in stopwords]\n",
        "    txt_clean = ' '.join(word for word in txt_clean.split() if word not in STOPWORDS) # remove stopwors from text\n",
        "    return txt_clean\n",
        "\n",
        "# porter stemming\n",
        "from nltk.stem.porter import PorterStemmer\n",
        "porter_stemmer = PorterStemmer()\n",
        "def stemming(tokenized_text):\n",
        "    text = [porter_stemmer.stem(word) for word in tokenized_text]\n",
        "    return text\n",
        "\n",
        "#\n",
        "#nltk.download(wordnet)\n",
        "from nltk.stem import WordNetLemmatizer\n",
        "wordnet_lemmatizer = WordNetLemmatizer()\n",
        "def lemmatization(token_txt):\n",
        "    text = [wordnet_lemmatizer.lemmatize(word) for word in token_txt]\n",
        "    return text\n",
        "\n",
        "# Creat tokenizer function\n",
        "def nltk_tokenizer(sentence):\n",
        "    #print(\"sentence === \", sentence)\n",
        "\n",
        "    sentence = sentence.lower()\n",
        "    #sentence = sentence.replace(to_replace='&#\\w+;', regex=True, value='')\n",
        "    #sentence = sentence.replace(to_replace='rt', regex=True, value='')\n",
        "    sentence = remove_urls(sentence)\n",
        "    sentence = remove_punctuation(sentence)\n",
        "    sentence = re.sub('[0-9]+', '', sentence)\n",
        "    sentence = re.sub(r'[^\\w\\s]', '', sentence)\n",
        "    sentence = remove_stopwords(sentence)\n",
        "\n",
        "    #print(\"sentence=====\",sentence)\n",
        "    # Create token object from nltk\n",
        "#     tokens = nltk.word_tokenize(sentence)\n",
        "#     tokens = remove_stopwords(tokens)\n",
        "#     tokens = stemming(tokens)\n",
        "#     tokens = lemmatization(tokens)\n",
        "\n",
        "    #print(\"tokens ====== \",tokens)\n",
        "    # return preprocessed list of tokens\n",
        "    return sentence"
      ]
    },
    {
      "cell_type": "code",
      "execution_count": null,
      "metadata": {
        "id": "tVBXNQ9fJJ_O",
        "colab": {
          "base_uri": "https://localhost:8080/"
        },
        "outputId": "f31d52ca-7bfb-4d32-c824-ef182782a222"
      },
      "outputs": [
        {
          "output_type": "stream",
          "name": "stdout",
          "text": [
            "1000\n",
            "1000000\n"
          ]
        }
      ],
      "source": [
        "import sys\n",
        "print(sys.getrecursionlimit())\n",
        "sys.setrecursionlimit(1000000)\n",
        "print(sys.getrecursionlimit())\n",
        "\n",
        "kaggle_data[\"tweet\"] = kaggle_data[\"tweet\"].apply(nltk_tokenizer)"
      ]
    },
    {
      "cell_type": "code",
      "execution_count": null,
      "metadata": {
        "id": "3pUEEr2YJ1vd",
        "colab": {
          "base_uri": "https://localhost:8080/",
          "height": 206
        },
        "outputId": "07e26b47-b294-4a05-f817-732e53a95b22"
      },
      "outputs": [
        {
          "output_type": "execute_result",
          "data": {
            "text/plain": [
              "                                               tweet  class  \\\n",
              "0  explanation edits made username hardcore metal...      0   \n",
              "1  daww matches background colour im seemingly st...      0   \n",
              "2  hey man im really trying edit war guy constant...      0   \n",
              "3  cant make real suggestions improvement wondere...      0   \n",
              "4                sir hero chance remember page thats      0   \n",
              "\n",
              "                                           old_tweet  \n",
              "0  Explanation\\nWhy the edits made under my usern...  \n",
              "1  D'aww! He matches this background colour I'm s...  \n",
              "2  Hey man, I'm really not trying to edit war. It...  \n",
              "3  \"\\nMore\\nI can't make any real suggestions on ...  \n",
              "4  You, sir, are my hero. Any chance you remember...  "
            ],
            "text/html": [
              "\n",
              "  <div id=\"df-2a5c3d6c-d035-4d71-afd4-38572662ba8e\">\n",
              "    <div class=\"colab-df-container\">\n",
              "      <div>\n",
              "<style scoped>\n",
              "    .dataframe tbody tr th:only-of-type {\n",
              "        vertical-align: middle;\n",
              "    }\n",
              "\n",
              "    .dataframe tbody tr th {\n",
              "        vertical-align: top;\n",
              "    }\n",
              "\n",
              "    .dataframe thead th {\n",
              "        text-align: right;\n",
              "    }\n",
              "</style>\n",
              "<table border=\"1\" class=\"dataframe\">\n",
              "  <thead>\n",
              "    <tr style=\"text-align: right;\">\n",
              "      <th></th>\n",
              "      <th>tweet</th>\n",
              "      <th>class</th>\n",
              "      <th>old_tweet</th>\n",
              "    </tr>\n",
              "  </thead>\n",
              "  <tbody>\n",
              "    <tr>\n",
              "      <th>0</th>\n",
              "      <td>explanation edits made username hardcore metal...</td>\n",
              "      <td>0</td>\n",
              "      <td>Explanation\\nWhy the edits made under my usern...</td>\n",
              "    </tr>\n",
              "    <tr>\n",
              "      <th>1</th>\n",
              "      <td>daww matches background colour im seemingly st...</td>\n",
              "      <td>0</td>\n",
              "      <td>D'aww! He matches this background colour I'm s...</td>\n",
              "    </tr>\n",
              "    <tr>\n",
              "      <th>2</th>\n",
              "      <td>hey man im really trying edit war guy constant...</td>\n",
              "      <td>0</td>\n",
              "      <td>Hey man, I'm really not trying to edit war. It...</td>\n",
              "    </tr>\n",
              "    <tr>\n",
              "      <th>3</th>\n",
              "      <td>cant make real suggestions improvement wondere...</td>\n",
              "      <td>0</td>\n",
              "      <td>\"\\nMore\\nI can't make any real suggestions on ...</td>\n",
              "    </tr>\n",
              "    <tr>\n",
              "      <th>4</th>\n",
              "      <td>sir hero chance remember page thats</td>\n",
              "      <td>0</td>\n",
              "      <td>You, sir, are my hero. Any chance you remember...</td>\n",
              "    </tr>\n",
              "  </tbody>\n",
              "</table>\n",
              "</div>\n",
              "      <button class=\"colab-df-convert\" onclick=\"convertToInteractive('df-2a5c3d6c-d035-4d71-afd4-38572662ba8e')\"\n",
              "              title=\"Convert this dataframe to an interactive table.\"\n",
              "              style=\"display:none;\">\n",
              "        \n",
              "  <svg xmlns=\"http://www.w3.org/2000/svg\" height=\"24px\"viewBox=\"0 0 24 24\"\n",
              "       width=\"24px\">\n",
              "    <path d=\"M0 0h24v24H0V0z\" fill=\"none\"/>\n",
              "    <path d=\"M18.56 5.44l.94 2.06.94-2.06 2.06-.94-2.06-.94-.94-2.06-.94 2.06-2.06.94zm-11 1L8.5 8.5l.94-2.06 2.06-.94-2.06-.94L8.5 2.5l-.94 2.06-2.06.94zm10 10l.94 2.06.94-2.06 2.06-.94-2.06-.94-.94-2.06-.94 2.06-2.06.94z\"/><path d=\"M17.41 7.96l-1.37-1.37c-.4-.4-.92-.59-1.43-.59-.52 0-1.04.2-1.43.59L10.3 9.45l-7.72 7.72c-.78.78-.78 2.05 0 2.83L4 21.41c.39.39.9.59 1.41.59.51 0 1.02-.2 1.41-.59l7.78-7.78 2.81-2.81c.8-.78.8-2.07 0-2.86zM5.41 20L4 18.59l7.72-7.72 1.47 1.35L5.41 20z\"/>\n",
              "  </svg>\n",
              "      </button>\n",
              "      \n",
              "  <style>\n",
              "    .colab-df-container {\n",
              "      display:flex;\n",
              "      flex-wrap:wrap;\n",
              "      gap: 12px;\n",
              "    }\n",
              "\n",
              "    .colab-df-convert {\n",
              "      background-color: #E8F0FE;\n",
              "      border: none;\n",
              "      border-radius: 50%;\n",
              "      cursor: pointer;\n",
              "      display: none;\n",
              "      fill: #1967D2;\n",
              "      height: 32px;\n",
              "      padding: 0 0 0 0;\n",
              "      width: 32px;\n",
              "    }\n",
              "\n",
              "    .colab-df-convert:hover {\n",
              "      background-color: #E2EBFA;\n",
              "      box-shadow: 0px 1px 2px rgba(60, 64, 67, 0.3), 0px 1px 3px 1px rgba(60, 64, 67, 0.15);\n",
              "      fill: #174EA6;\n",
              "    }\n",
              "\n",
              "    [theme=dark] .colab-df-convert {\n",
              "      background-color: #3B4455;\n",
              "      fill: #D2E3FC;\n",
              "    }\n",
              "\n",
              "    [theme=dark] .colab-df-convert:hover {\n",
              "      background-color: #434B5C;\n",
              "      box-shadow: 0px 1px 3px 1px rgba(0, 0, 0, 0.15);\n",
              "      filter: drop-shadow(0px 1px 2px rgba(0, 0, 0, 0.3));\n",
              "      fill: #FFFFFF;\n",
              "    }\n",
              "  </style>\n",
              "\n",
              "      <script>\n",
              "        const buttonEl =\n",
              "          document.querySelector('#df-2a5c3d6c-d035-4d71-afd4-38572662ba8e button.colab-df-convert');\n",
              "        buttonEl.style.display =\n",
              "          google.colab.kernel.accessAllowed ? 'block' : 'none';\n",
              "\n",
              "        async function convertToInteractive(key) {\n",
              "          const element = document.querySelector('#df-2a5c3d6c-d035-4d71-afd4-38572662ba8e');\n",
              "          const dataTable =\n",
              "            await google.colab.kernel.invokeFunction('convertToInteractive',\n",
              "                                                     [key], {});\n",
              "          if (!dataTable) return;\n",
              "\n",
              "          const docLinkHtml = 'Like what you see? Visit the ' +\n",
              "            '<a target=\"_blank\" href=https://colab.research.google.com/notebooks/data_table.ipynb>data table notebook</a>'\n",
              "            + ' to learn more about interactive tables.';\n",
              "          element.innerHTML = '';\n",
              "          dataTable['output_type'] = 'display_data';\n",
              "          await google.colab.output.renderOutput(dataTable, element);\n",
              "          const docLink = document.createElement('div');\n",
              "          docLink.innerHTML = docLinkHtml;\n",
              "          element.appendChild(docLink);\n",
              "        }\n",
              "      </script>\n",
              "    </div>\n",
              "  </div>\n",
              "  "
            ]
          },
          "metadata": {},
          "execution_count": 17
        }
      ],
      "source": [
        "kaggle_data[:5]"
      ]
    },
    {
      "cell_type": "code",
      "execution_count": null,
      "metadata": {
        "id": "KXBI-jZgISPT",
        "colab": {
          "base_uri": "https://localhost:8080/"
        },
        "outputId": "5f132755-4c48-453b-e248-88df0aca8411"
      },
      "outputs": [
        {
          "output_type": "stream",
          "name": "stdout",
          "text": [
            "5000\n",
            "0\n"
          ]
        },
        {
          "output_type": "execute_result",
          "data": {
            "text/plain": [
              "array([0])"
            ]
          },
          "metadata": {},
          "execution_count": 18
        }
      ],
      "source": [
        "print(kaggle_data[\"tweet\"].map(len).max())\n",
        "print(kaggle_data[\"tweet\"].map(len).min())\n",
        "kaggle_data.loc[kaggle_data[\"tweet\"].str.len()==0, 'class'].unique()"
      ]
    },
    {
      "cell_type": "code",
      "execution_count": null,
      "metadata": {
        "id": "P3RpWnPE6itl"
      },
      "outputs": [],
      "source": []
    },
    {
      "cell_type": "code",
      "execution_count": null,
      "metadata": {
        "id": "keQNakrm6i_V"
      },
      "outputs": [],
      "source": []
    },
    {
      "cell_type": "code",
      "execution_count": null,
      "metadata": {
        "id": "Kq5VCo3S6jLn"
      },
      "outputs": [],
      "source": [
        "X_train = kaggle_data['tweet']\n",
        "Y_train = kaggle_data['class']\n",
        "# list_classes = [\"toxic\", \"severe_toxic\", \"obscene\", \"threat\", \"insult\", \"identity_hate\"]\n",
        "# y = kaggle_data[list_classes].values"
      ]
    },
    {
      "cell_type": "code",
      "execution_count": null,
      "metadata": {
        "id": "a7B6VJXL6jZR"
      },
      "outputs": [],
      "source": [
        "from keras.preprocessing.text import Tokenizer\n",
        "from keras.preprocessing import sequence\n",
        "from keras.utils import pad_sequences\n",
        "\n",
        "max_features = 20000\n",
        "tokenizer = Tokenizer(num_words=max_features)\n",
        "tokenizer.fit_on_texts(list(X_train))\n",
        "list_tokenized_train = tokenizer.texts_to_sequences(X_train)\n",
        "list_tokenized_test = tokenizer.texts_to_sequences(testDF['comment_text'])\n",
        "\n",
        "maxlen = 200\n",
        "X_t = pad_sequences(list_tokenized_train, maxlen=maxlen)\n",
        "X_te = pad_sequences(list_tokenized_test, maxlen=maxlen)\n"
      ]
    },
    {
      "cell_type": "code",
      "execution_count": null,
      "metadata": {
        "id": "C17iIcY36kSa",
        "colab": {
          "base_uri": "https://localhost:8080/"
        },
        "outputId": "5da3996a-fe63-40b5-ed7b-0fa4feec593e"
      },
      "outputs": [
        {
          "output_type": "stream",
          "name": "stdout",
          "text": [
            "(184354, 3)\n",
            "[19592, 2563, 1479, 4174, 3800, 3137, 1983, 1114, 459]\n",
            "(184354, 200)\n"
          ]
        }
      ],
      "source": [
        "print(kaggle_data.shape)\n",
        "print(list_tokenized_train[-1])\n",
        "print(X_t.shape)"
      ]
    },
    {
      "cell_type": "code",
      "source": [
        "#tokenizer.word_docs"
      ],
      "metadata": {
        "id": "vUrZbkdrNzHp"
      },
      "execution_count": null,
      "outputs": []
    },
    {
      "cell_type": "code",
      "execution_count": null,
      "metadata": {
        "id": "SbZLfzP4KEym"
      },
      "outputs": [],
      "source": [
        "import pickle\n",
        "with open('tokenizer.pickle', 'wb') as handle:\n",
        "    pickle.dump(tokenizer, handle, protocol=3)"
      ]
    },
    {
      "cell_type": "code",
      "execution_count": null,
      "metadata": {
        "id": "HocFDEWBKHnd",
        "colab": {
          "base_uri": "https://localhost:8080/"
        },
        "outputId": "20de1b9e-bdcc-42fb-a4f0-a3299978eb67"
      },
      "outputs": [
        {
          "output_type": "stream",
          "name": "stdout",
          "text": [
            "Model: \"model\"\n",
            "_________________________________________________________________\n",
            " Layer (type)                Output Shape              Param #   \n",
            "=================================================================\n",
            " tweet (InputLayer)          [(None, 200)]             0         \n",
            "                                                                 \n",
            " embedding (Embedding)       (None, 200, 128)          2560000   \n",
            "                                                                 \n",
            " lstm_layer (LSTM)           (None, 200, 60)           45360     \n",
            "                                                                 \n",
            " global_max_pooling1d (Globa  (None, 60)               0         \n",
            " lMaxPooling1D)                                                  \n",
            "                                                                 \n",
            " dropout (Dropout)           (None, 60)                0         \n",
            "                                                                 \n",
            " dense (Dense)               (None, 50)                3050      \n",
            "                                                                 \n",
            " dropout_1 (Dropout)         (None, 50)                0         \n",
            "                                                                 \n",
            " dense_1 (Dense)             (None, 1)                 51        \n",
            "                                                                 \n",
            "=================================================================\n",
            "Total params: 2,608,461\n",
            "Trainable params: 2,608,461\n",
            "Non-trainable params: 0\n",
            "_________________________________________________________________\n"
          ]
        }
      ],
      "source": [
        "#Define LSTM model\n",
        "\n",
        "vocab_size = 100 #max_tokens\n",
        "max_len = 200\n",
        "batch_size = 32\n",
        "\n",
        "#Encoder\n",
        "inputs = tf.keras.layers.Input(shape=(max_len,),name=\"tweet\")\n",
        "#Embedding\n",
        "embed_size = 128\n",
        "x = tf.keras.layers.Embedding(max_features, embed_size)(inputs)\n",
        "\n",
        "x = tf.keras.layers.LSTM(60, return_sequences=True,name='lstm_layer')(x)\n",
        "x = keras.layers.GlobalMaxPool1D()(x)\n",
        "\n",
        "#x = tf.keras.layers.Dense(32, activation='sigmoid')(x)\n",
        "x = tf.keras.layers.Dropout(0.1)(x)\n",
        "x = tf.keras.layers.Dense(50, activation='softmax')(x)\n",
        "x = tf.keras.layers.Dropout(0.1)(x)\n",
        "\n",
        "initializer = tf.keras.initializers.GlorotUniform(seed=42)\n",
        "outputs = tf.keras.layers.Dense(1, kernel_initializer=initializer, activation=\"sigmoid\")(x)\n",
        "\n",
        "model = tf.keras.models.Model(inputs, outputs)\n",
        "model.summary()\n",
        "\n",
        "model.compile(optimizer=\"adam\", loss='binary_crossentropy', metrics=[keras.metrics.BinaryAccuracy()]) #metrics was mae, optimiser was rmsprop\n",
        "\n",
        "# history = model.fit(train_dataset,\n",
        "#                     epochs=50,\n",
        "#                     validation_data=val_dataset,\n",
        "#                     callbacks=callbacks)\n",
        "\n",
        "# model = tf.keras.models.Model(inputs=[inputs, targets],outputs=x)\n",
        "# model.summary()\n",
        "\n",
        "# loss = tf.keras.losses.SparseCategoricalCrossentropy()\n",
        "# model.compile(optimizer='rmsprop', loss=loss, metrics=['accuracy'])"
      ]
    },
    {
      "cell_type": "code",
      "execution_count": null,
      "metadata": {
        "id": "bbifINIkKxtn",
        "colab": {
          "base_uri": "https://localhost:8080/",
          "height": 865
        },
        "outputId": "a3259232-6845-4f34-b76c-618535058a76"
      },
      "outputs": [
        {
          "output_type": "execute_result",
          "data": {
            "image/png": "[encoded data removed]",
            "text/plain": [
              "<IPython.core.display.Image object>"
            ]
          },
          "metadata": {},
          "execution_count": 25
        }
      ],
      "source": [
        "from tensorflow.keras.utils import plot_model\n",
        "plot_model(model, show_shapes=True)"
      ]
    },
    {
      "cell_type": "code",
      "execution_count": null,
      "metadata": {
        "id": "Vz00gPt0-muE",
        "colab": {
          "base_uri": "https://localhost:8080/"
        },
        "outputId": "15200047-c1b4-4cdb-bdb2-3ba74a567bc6"
      },
      "outputs": [
        {
          "output_type": "stream",
          "name": "stdout",
          "text": [
            "Epoch 1/10\n",
            "5185/5185 [==============================] - 203s 38ms/step - loss: 0.2549 - binary_accuracy: 0.9202 - val_loss: 0.2965 - val_binary_accuracy: 0.9473\n",
            "Epoch 2/10\n",
            "5185/5185 [==============================] - 72s 14ms/step - loss: 0.1361 - binary_accuracy: 0.9542 - val_loss: 0.1807 - val_binary_accuracy: 0.9480\n",
            "Epoch 3/10\n",
            "5185/5185 [==============================] - 67s 13ms/step - loss: 0.1097 - binary_accuracy: 0.9586 - val_loss: 0.1487 - val_binary_accuracy: 0.9469\n",
            "Epoch 4/10\n",
            "5185/5185 [==============================] - 65s 13ms/step - loss: 0.0912 - binary_accuracy: 0.9661 - val_loss: 0.1553 - val_binary_accuracy: 0.9420\n",
            "Epoch 5/10\n",
            "5185/5185 [==============================] - 65s 13ms/step - loss: 0.0731 - binary_accuracy: 0.9764 - val_loss: 0.1613 - val_binary_accuracy: 0.9412\n"
          ]
        },
        {
          "output_type": "execute_result",
          "data": {
            "text/plain": [
              "<keras.callbacks.History at 0x7fa1313de710>"
            ]
          },
          "metadata": {},
          "execution_count": 26
        }
      ],
      "source": [
        "batch_size = 32\n",
        "epochs = 10\n",
        "callback = tf.keras.callbacks.EarlyStopping(monitor='val_loss', patience=2)\n",
        "model.fit(X_t,Y_train, batch_size=batch_size, epochs=epochs, validation_split=0.1,\n",
        "          callbacks=[callback])"
      ]
    },
    {
      "cell_type": "code",
      "execution_count": null,
      "metadata": {
        "id": "NECP7lYsK3Bp"
      },
      "outputs": [],
      "source": [
        "# import joblib\n",
        "# joblib.dump(model, 'model_lstm.pkl')\n",
        "model.save('model_lstm.keras')"
      ]
    },
    {
      "cell_type": "code",
      "execution_count": null,
      "metadata": {
        "id": "kU49QMyALC2H",
        "colab": {
          "base_uri": "https://localhost:8080/"
        },
        "outputId": "c306162e-46db-47f0-9f05-d905e9a9bbbe"
      },
      "outputs": [
        {
          "output_type": "stream",
          "name": "stdout",
          "text": [
            "2000/2000 [==============================] - 14s 7ms/step\n"
          ]
        }
      ],
      "source": [
        "pred = model.predict(X_te)"
      ]
    },
    {
      "cell_type": "code",
      "execution_count": null,
      "metadata": {
        "id": "bvdNEtWWLFRE"
      },
      "outputs": [],
      "source": [
        "#keras.saving.load_model('model_lstm.keras')"
      ]
    },
    {
      "cell_type": "code",
      "source": [
        "import numpy as np\n",
        "np.max(pred)"
      ],
      "metadata": {
        "colab": {
          "base_uri": "https://localhost:8080/"
        },
        "id": "Rr5nGmqPGxIf",
        "outputId": "777b1dd0-543f-4578-9103-b4cd89f06f1f"
      },
      "execution_count": null,
      "outputs": [
        {
          "output_type": "execute_result",
          "data": {
            "text/plain": [
              "0.9898168"
            ]
          },
          "metadata": {},
          "execution_count": 32
        }
      ]
    },
    {
      "cell_type": "markdown",
      "source": [],
      "metadata": {
        "id": "R4lCh2z2UtVh"
      }
    },
    {
      "cell_type": "code",
      "source": [],
      "metadata": {
        "id": "H0Zpp7NlU2aQ"
      },
      "execution_count": null,
      "outputs": []
    }
  ],
  "metadata": {
    "accelerator": "GPU",
    "colab": {
      "provenance": [],
      "authorship_tag": "ABX9TyMvxUxvYQfMTZXsrG9y0TCq",
      "include_colab_link": true
    },
    "kernelspec": {
      "display_name": "Python 3",
      "name": "python3"
    },
    "language_info": {
      "name": "python"
    }
  },
  "nbformat": 4,
  "nbformat_minor": 0
}